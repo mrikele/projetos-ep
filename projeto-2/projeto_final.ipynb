{
  "nbformat": 4,
  "nbformat_minor": 0,
  "metadata": {
    "colab": {
      "provenance": []
    },
    "kernelspec": {
      "name": "python3",
      "display_name": "Python 3"
    },
    "language_info": {
      "name": "python"
    }
  },
  "cells": [
    {
      "cell_type": "code",
      "source": [
        "import pandas as pd \n",
        "import matplotlib.pyplot as plt\n",
        "import seaborn as sns\n",
        "import scipy.stats as st\n",
        "import numpy as np\n",
        "from scipy.stats import norm\n",
        "from scipy.stats import kstest\n",
        "from scipy.stats import ranksums\n",
        "#Lendo dataset\n",
        "a = pd.read_csv('ebola_2014_2016_clean.csv')\n",
        "#Eliminando células vazias\n",
        "a = a.dropna()\n",
        "a"
      ],
      "metadata": {
        "id": "s0EXolDk1_JA",
        "colab": {
          "base_uri": "https://localhost:8080/",
          "height": 424
        },
        "outputId": "e623a9cf-f355-4e64-c0c5-1ea00eeed39d"
      },
      "execution_count": null,
      "outputs": [
        {
          "output_type": "execute_result",
          "data": {
            "text/plain": [
              "                       Country        Date  \\\n",
              "0                       Guinea  2014-08-29   \n",
              "1                      Nigeria  2014-08-29   \n",
              "2                 Sierra Leone  2014-08-29   \n",
              "3                      Liberia  2014-08-29   \n",
              "4                 Sierra Leone  2014-09-05   \n",
              "...                        ...         ...   \n",
              "2480                   Liberia  2016-03-23   \n",
              "2481                     Italy  2016-03-23   \n",
              "2482                   Liberia  2016-03-23   \n",
              "2483                   Nigeria  2016-03-23   \n",
              "2484  United States of America  2016-03-23   \n",
              "\n",
              "      Cumulative no. of confirmed, probable and suspected cases  \\\n",
              "0                                                 648.0           \n",
              "1                                                  19.0           \n",
              "2                                                1026.0           \n",
              "3                                                1378.0           \n",
              "4                                                1261.0           \n",
              "...                                                 ...           \n",
              "2480                                            10666.0           \n",
              "2481                                                1.0           \n",
              "2482                                                5.0           \n",
              "2483                                               20.0           \n",
              "2484                                                4.0           \n",
              "\n",
              "      Cumulative no. of confirmed, probable and suspected deaths  \n",
              "0                                                 430.0           \n",
              "1                                                   7.0           \n",
              "2                                                 422.0           \n",
              "3                                                 694.0           \n",
              "4                                                 491.0           \n",
              "...                                                 ...           \n",
              "2480                                             4806.0           \n",
              "2481                                                0.0           \n",
              "2482                                                4.0           \n",
              "2483                                                8.0           \n",
              "2484                                                1.0           \n",
              "\n",
              "[2477 rows x 4 columns]"
            ],
            "text/html": [
              "\n",
              "  <div id=\"df-2b501dc5-62df-4086-b98e-9dc54dd564bb\">\n",
              "    <div class=\"colab-df-container\">\n",
              "      <div>\n",
              "<style scoped>\n",
              "    .dataframe tbody tr th:only-of-type {\n",
              "        vertical-align: middle;\n",
              "    }\n",
              "\n",
              "    .dataframe tbody tr th {\n",
              "        vertical-align: top;\n",
              "    }\n",
              "\n",
              "    .dataframe thead th {\n",
              "        text-align: right;\n",
              "    }\n",
              "</style>\n",
              "<table border=\"1\" class=\"dataframe\">\n",
              "  <thead>\n",
              "    <tr style=\"text-align: right;\">\n",
              "      <th></th>\n",
              "      <th>Country</th>\n",
              "      <th>Date</th>\n",
              "      <th>Cumulative no. of confirmed, probable and suspected cases</th>\n",
              "      <th>Cumulative no. of confirmed, probable and suspected deaths</th>\n",
              "    </tr>\n",
              "  </thead>\n",
              "  <tbody>\n",
              "    <tr>\n",
              "      <th>0</th>\n",
              "      <td>Guinea</td>\n",
              "      <td>2014-08-29</td>\n",
              "      <td>648.0</td>\n",
              "      <td>430.0</td>\n",
              "    </tr>\n",
              "    <tr>\n",
              "      <th>1</th>\n",
              "      <td>Nigeria</td>\n",
              "      <td>2014-08-29</td>\n",
              "      <td>19.0</td>\n",
              "      <td>7.0</td>\n",
              "    </tr>\n",
              "    <tr>\n",
              "      <th>2</th>\n",
              "      <td>Sierra Leone</td>\n",
              "      <td>2014-08-29</td>\n",
              "      <td>1026.0</td>\n",
              "      <td>422.0</td>\n",
              "    </tr>\n",
              "    <tr>\n",
              "      <th>3</th>\n",
              "      <td>Liberia</td>\n",
              "      <td>2014-08-29</td>\n",
              "      <td>1378.0</td>\n",
              "      <td>694.0</td>\n",
              "    </tr>\n",
              "    <tr>\n",
              "      <th>4</th>\n",
              "      <td>Sierra Leone</td>\n",
              "      <td>2014-09-05</td>\n",
              "      <td>1261.0</td>\n",
              "      <td>491.0</td>\n",
              "    </tr>\n",
              "    <tr>\n",
              "      <th>...</th>\n",
              "      <td>...</td>\n",
              "      <td>...</td>\n",
              "      <td>...</td>\n",
              "      <td>...</td>\n",
              "    </tr>\n",
              "    <tr>\n",
              "      <th>2480</th>\n",
              "      <td>Liberia</td>\n",
              "      <td>2016-03-23</td>\n",
              "      <td>10666.0</td>\n",
              "      <td>4806.0</td>\n",
              "    </tr>\n",
              "    <tr>\n",
              "      <th>2481</th>\n",
              "      <td>Italy</td>\n",
              "      <td>2016-03-23</td>\n",
              "      <td>1.0</td>\n",
              "      <td>0.0</td>\n",
              "    </tr>\n",
              "    <tr>\n",
              "      <th>2482</th>\n",
              "      <td>Liberia</td>\n",
              "      <td>2016-03-23</td>\n",
              "      <td>5.0</td>\n",
              "      <td>4.0</td>\n",
              "    </tr>\n",
              "    <tr>\n",
              "      <th>2483</th>\n",
              "      <td>Nigeria</td>\n",
              "      <td>2016-03-23</td>\n",
              "      <td>20.0</td>\n",
              "      <td>8.0</td>\n",
              "    </tr>\n",
              "    <tr>\n",
              "      <th>2484</th>\n",
              "      <td>United States of America</td>\n",
              "      <td>2016-03-23</td>\n",
              "      <td>4.0</td>\n",
              "      <td>1.0</td>\n",
              "    </tr>\n",
              "  </tbody>\n",
              "</table>\n",
              "<p>2477 rows × 4 columns</p>\n",
              "</div>\n",
              "      <button class=\"colab-df-convert\" onclick=\"convertToInteractive('df-2b501dc5-62df-4086-b98e-9dc54dd564bb')\"\n",
              "              title=\"Convert this dataframe to an interactive table.\"\n",
              "              style=\"display:none;\">\n",
              "        \n",
              "  <svg xmlns=\"http://www.w3.org/2000/svg\" height=\"24px\"viewBox=\"0 0 24 24\"\n",
              "       width=\"24px\">\n",
              "    <path d=\"M0 0h24v24H0V0z\" fill=\"none\"/>\n",
              "    <path d=\"M18.56 5.44l.94 2.06.94-2.06 2.06-.94-2.06-.94-.94-2.06-.94 2.06-2.06.94zm-11 1L8.5 8.5l.94-2.06 2.06-.94-2.06-.94L8.5 2.5l-.94 2.06-2.06.94zm10 10l.94 2.06.94-2.06 2.06-.94-2.06-.94-.94-2.06-.94 2.06-2.06.94z\"/><path d=\"M17.41 7.96l-1.37-1.37c-.4-.4-.92-.59-1.43-.59-.52 0-1.04.2-1.43.59L10.3 9.45l-7.72 7.72c-.78.78-.78 2.05 0 2.83L4 21.41c.39.39.9.59 1.41.59.51 0 1.02-.2 1.41-.59l7.78-7.78 2.81-2.81c.8-.78.8-2.07 0-2.86zM5.41 20L4 18.59l7.72-7.72 1.47 1.35L5.41 20z\"/>\n",
              "  </svg>\n",
              "      </button>\n",
              "      \n",
              "  <style>\n",
              "    .colab-df-container {\n",
              "      display:flex;\n",
              "      flex-wrap:wrap;\n",
              "      gap: 12px;\n",
              "    }\n",
              "\n",
              "    .colab-df-convert {\n",
              "      background-color: #E8F0FE;\n",
              "      border: none;\n",
              "      border-radius: 50%;\n",
              "      cursor: pointer;\n",
              "      display: none;\n",
              "      fill: #1967D2;\n",
              "      height: 32px;\n",
              "      padding: 0 0 0 0;\n",
              "      width: 32px;\n",
              "    }\n",
              "\n",
              "    .colab-df-convert:hover {\n",
              "      background-color: #E2EBFA;\n",
              "      box-shadow: 0px 1px 2px rgba(60, 64, 67, 0.3), 0px 1px 3px 1px rgba(60, 64, 67, 0.15);\n",
              "      fill: #174EA6;\n",
              "    }\n",
              "\n",
              "    [theme=dark] .colab-df-convert {\n",
              "      background-color: #3B4455;\n",
              "      fill: #D2E3FC;\n",
              "    }\n",
              "\n",
              "    [theme=dark] .colab-df-convert:hover {\n",
              "      background-color: #434B5C;\n",
              "      box-shadow: 0px 1px 3px 1px rgba(0, 0, 0, 0.15);\n",
              "      filter: drop-shadow(0px 1px 2px rgba(0, 0, 0, 0.3));\n",
              "      fill: #FFFFFF;\n",
              "    }\n",
              "  </style>\n",
              "\n",
              "      <script>\n",
              "        const buttonEl =\n",
              "          document.querySelector('#df-2b501dc5-62df-4086-b98e-9dc54dd564bb button.colab-df-convert');\n",
              "        buttonEl.style.display =\n",
              "          google.colab.kernel.accessAllowed ? 'block' : 'none';\n",
              "\n",
              "        async function convertToInteractive(key) {\n",
              "          const element = document.querySelector('#df-2b501dc5-62df-4086-b98e-9dc54dd564bb');\n",
              "          const dataTable =\n",
              "            await google.colab.kernel.invokeFunction('convertToInteractive',\n",
              "                                                     [key], {});\n",
              "          if (!dataTable) return;\n",
              "\n",
              "          const docLinkHtml = 'Like what you see? Visit the ' +\n",
              "            '<a target=\"_blank\" href=https://colab.research.google.com/notebooks/data_table.ipynb>data table notebook</a>'\n",
              "            + ' to learn more about interactive tables.';\n",
              "          element.innerHTML = '';\n",
              "          dataTable['output_type'] = 'display_data';\n",
              "          await google.colab.output.renderOutput(dataTable, element);\n",
              "          const docLink = document.createElement('div');\n",
              "          docLink.innerHTML = docLinkHtml;\n",
              "          element.appendChild(docLink);\n",
              "        }\n",
              "      </script>\n",
              "    </div>\n",
              "  </div>\n",
              "  "
            ]
          },
          "metadata": {},
          "execution_count": 28
        }
      ]
    },
    {
      "cell_type": "code",
      "source": [
        "#Visão geral dos dados\n",
        "a.describe()"
      ],
      "metadata": {
        "colab": {
          "base_uri": "https://localhost:8080/",
          "height": 300
        },
        "id": "l-g6LficIw4N",
        "outputId": "03caf021-bf79-4714-c4f1-b4ec692d77b1"
      },
      "execution_count": null,
      "outputs": [
        {
          "output_type": "execute_result",
          "data": {
            "text/plain": [
              "       Cumulative no. of confirmed, probable and suspected cases  \\\n",
              "count                                        2477.000000           \n",
              "mean                                         2553.678644           \n",
              "std                                          4427.118148           \n",
              "min                                             0.000000           \n",
              "25%                                             1.000000           \n",
              "50%                                             8.000000           \n",
              "75%                                          3657.000000           \n",
              "max                                         14122.000000           \n",
              "\n",
              "       Cumulative no. of confirmed, probable and suspected deaths  \n",
              "count                                        2477.000000           \n",
              "mean                                         1031.659265           \n",
              "std                                          1657.710028           \n",
              "min                                             0.000000           \n",
              "25%                                             0.000000           \n",
              "50%                                             6.000000           \n",
              "75%                                          2387.000000           \n",
              "max                                          4806.000000           "
            ],
            "text/html": [
              "\n",
              "  <div id=\"df-cfe14a10-e659-4e6f-8e0d-31a58fb6283c\">\n",
              "    <div class=\"colab-df-container\">\n",
              "      <div>\n",
              "<style scoped>\n",
              "    .dataframe tbody tr th:only-of-type {\n",
              "        vertical-align: middle;\n",
              "    }\n",
              "\n",
              "    .dataframe tbody tr th {\n",
              "        vertical-align: top;\n",
              "    }\n",
              "\n",
              "    .dataframe thead th {\n",
              "        text-align: right;\n",
              "    }\n",
              "</style>\n",
              "<table border=\"1\" class=\"dataframe\">\n",
              "  <thead>\n",
              "    <tr style=\"text-align: right;\">\n",
              "      <th></th>\n",
              "      <th>Cumulative no. of confirmed, probable and suspected cases</th>\n",
              "      <th>Cumulative no. of confirmed, probable and suspected deaths</th>\n",
              "    </tr>\n",
              "  </thead>\n",
              "  <tbody>\n",
              "    <tr>\n",
              "      <th>count</th>\n",
              "      <td>2477.000000</td>\n",
              "      <td>2477.000000</td>\n",
              "    </tr>\n",
              "    <tr>\n",
              "      <th>mean</th>\n",
              "      <td>2553.678644</td>\n",
              "      <td>1031.659265</td>\n",
              "    </tr>\n",
              "    <tr>\n",
              "      <th>std</th>\n",
              "      <td>4427.118148</td>\n",
              "      <td>1657.710028</td>\n",
              "    </tr>\n",
              "    <tr>\n",
              "      <th>min</th>\n",
              "      <td>0.000000</td>\n",
              "      <td>0.000000</td>\n",
              "    </tr>\n",
              "    <tr>\n",
              "      <th>25%</th>\n",
              "      <td>1.000000</td>\n",
              "      <td>0.000000</td>\n",
              "    </tr>\n",
              "    <tr>\n",
              "      <th>50%</th>\n",
              "      <td>8.000000</td>\n",
              "      <td>6.000000</td>\n",
              "    </tr>\n",
              "    <tr>\n",
              "      <th>75%</th>\n",
              "      <td>3657.000000</td>\n",
              "      <td>2387.000000</td>\n",
              "    </tr>\n",
              "    <tr>\n",
              "      <th>max</th>\n",
              "      <td>14122.000000</td>\n",
              "      <td>4806.000000</td>\n",
              "    </tr>\n",
              "  </tbody>\n",
              "</table>\n",
              "</div>\n",
              "      <button class=\"colab-df-convert\" onclick=\"convertToInteractive('df-cfe14a10-e659-4e6f-8e0d-31a58fb6283c')\"\n",
              "              title=\"Convert this dataframe to an interactive table.\"\n",
              "              style=\"display:none;\">\n",
              "        \n",
              "  <svg xmlns=\"http://www.w3.org/2000/svg\" height=\"24px\"viewBox=\"0 0 24 24\"\n",
              "       width=\"24px\">\n",
              "    <path d=\"M0 0h24v24H0V0z\" fill=\"none\"/>\n",
              "    <path d=\"M18.56 5.44l.94 2.06.94-2.06 2.06-.94-2.06-.94-.94-2.06-.94 2.06-2.06.94zm-11 1L8.5 8.5l.94-2.06 2.06-.94-2.06-.94L8.5 2.5l-.94 2.06-2.06.94zm10 10l.94 2.06.94-2.06 2.06-.94-2.06-.94-.94-2.06-.94 2.06-2.06.94z\"/><path d=\"M17.41 7.96l-1.37-1.37c-.4-.4-.92-.59-1.43-.59-.52 0-1.04.2-1.43.59L10.3 9.45l-7.72 7.72c-.78.78-.78 2.05 0 2.83L4 21.41c.39.39.9.59 1.41.59.51 0 1.02-.2 1.41-.59l7.78-7.78 2.81-2.81c.8-.78.8-2.07 0-2.86zM5.41 20L4 18.59l7.72-7.72 1.47 1.35L5.41 20z\"/>\n",
              "  </svg>\n",
              "      </button>\n",
              "      \n",
              "  <style>\n",
              "    .colab-df-container {\n",
              "      display:flex;\n",
              "      flex-wrap:wrap;\n",
              "      gap: 12px;\n",
              "    }\n",
              "\n",
              "    .colab-df-convert {\n",
              "      background-color: #E8F0FE;\n",
              "      border: none;\n",
              "      border-radius: 50%;\n",
              "      cursor: pointer;\n",
              "      display: none;\n",
              "      fill: #1967D2;\n",
              "      height: 32px;\n",
              "      padding: 0 0 0 0;\n",
              "      width: 32px;\n",
              "    }\n",
              "\n",
              "    .colab-df-convert:hover {\n",
              "      background-color: #E2EBFA;\n",
              "      box-shadow: 0px 1px 2px rgba(60, 64, 67, 0.3), 0px 1px 3px 1px rgba(60, 64, 67, 0.15);\n",
              "      fill: #174EA6;\n",
              "    }\n",
              "\n",
              "    [theme=dark] .colab-df-convert {\n",
              "      background-color: #3B4455;\n",
              "      fill: #D2E3FC;\n",
              "    }\n",
              "\n",
              "    [theme=dark] .colab-df-convert:hover {\n",
              "      background-color: #434B5C;\n",
              "      box-shadow: 0px 1px 3px 1px rgba(0, 0, 0, 0.15);\n",
              "      filter: drop-shadow(0px 1px 2px rgba(0, 0, 0, 0.3));\n",
              "      fill: #FFFFFF;\n",
              "    }\n",
              "  </style>\n",
              "\n",
              "      <script>\n",
              "        const buttonEl =\n",
              "          document.querySelector('#df-cfe14a10-e659-4e6f-8e0d-31a58fb6283c button.colab-df-convert');\n",
              "        buttonEl.style.display =\n",
              "          google.colab.kernel.accessAllowed ? 'block' : 'none';\n",
              "\n",
              "        async function convertToInteractive(key) {\n",
              "          const element = document.querySelector('#df-cfe14a10-e659-4e6f-8e0d-31a58fb6283c');\n",
              "          const dataTable =\n",
              "            await google.colab.kernel.invokeFunction('convertToInteractive',\n",
              "                                                     [key], {});\n",
              "          if (!dataTable) return;\n",
              "\n",
              "          const docLinkHtml = 'Like what you see? Visit the ' +\n",
              "            '<a target=\"_blank\" href=https://colab.research.google.com/notebooks/data_table.ipynb>data table notebook</a>'\n",
              "            + ' to learn more about interactive tables.';\n",
              "          element.innerHTML = '';\n",
              "          dataTable['output_type'] = 'display_data';\n",
              "          await google.colab.output.renderOutput(dataTable, element);\n",
              "          const docLink = document.createElement('div');\n",
              "          docLink.innerHTML = docLinkHtml;\n",
              "          element.appendChild(docLink);\n",
              "        }\n",
              "      </script>\n",
              "    </div>\n",
              "  </div>\n",
              "  "
            ]
          },
          "metadata": {},
          "execution_count": 2
        }
      ]
    },
    {
      "cell_type": "code",
      "source": [
        "#filtrando numero cumulativo de casos confirmados, prováveis e suspeitos\n",
        "casos = a['Cumulative no. of confirmed, probable and suspected cases'].iloc[0:1000].tolist()\n",
        "casos"
      ],
      "metadata": {
        "id": "lwMkJKSvI07f"
      },
      "execution_count": null,
      "outputs": []
    },
    {
      "cell_type": "code",
      "source": [
        "#filtrando numero cumulativo de óbitos confirmados, prováveis e suspeitos\n",
        "mortes = a['Cumulative no. of confirmed, probable and suspected deaths'].iloc[0:1000].tolist()\n",
        "mortes"
      ],
      "metadata": {
        "id": "Z5-5B5gzWwVK"
      },
      "execution_count": null,
      "outputs": []
    },
    {
      "cell_type": "code",
      "source": [
        "#media e desvio - casos\n",
        "\n",
        "media1 = np.mean(casos)\n",
        "desvio1 = np.std(casos)\n",
        "media1, desvio1"
      ],
      "metadata": {
        "colab": {
          "base_uri": "https://localhost:8080/"
        },
        "id": "PR2lDWoDn7q4",
        "outputId": "0b111d26-b15a-4470-e1a2-ad89dc827263"
      },
      "execution_count": null,
      "outputs": [
        {
          "output_type": "execute_result",
          "data": {
            "text/plain": [
              "(2489.116, 3981.174658884486)"
            ]
          },
          "metadata": {},
          "execution_count": 12
        }
      ]
    },
    {
      "cell_type": "code",
      "source": [
        "#media e desvio -  mortes\n",
        "\n",
        "media2 = np.mean(mortes)\n",
        "desvio2 = np.std(mortes)\n",
        "media2, desvio2"
      ],
      "metadata": {
        "colab": {
          "base_uri": "https://localhost:8080/"
        },
        "id": "hUOycuLMorXZ",
        "outputId": "47f922bb-4245-4327-be74-5e4d136c7141"
      },
      "execution_count": null,
      "outputs": [
        {
          "output_type": "execute_result",
          "data": {
            "text/plain": [
              "(1010.799, 1503.7000806673518)"
            ]
          },
          "metadata": {},
          "execution_count": 13
        }
      ]
    },
    {
      "cell_type": "markdown",
      "source": [
        "Teste de normalidade"
      ],
      "metadata": {
        "id": "Fy3p7MmQalfm"
      }
    },
    {
      "cell_type": "code",
      "source": [
        "sns.distplot(casos, hist=False, rug=False,label='Casos')\n",
        "sns.distplot(mortes, hist=False, rug=False,label='Mortes')\n",
        "plt.xlabel('Valores')\n",
        "plt.ylabel('Probabilidades')\n",
        "plt.title('Distribuição dos dados')\n",
        "plt.legend()\n",
        "plt.show()"
      ],
      "metadata": {
        "colab": {
          "base_uri": "https://localhost:8080/",
          "height": 384
        },
        "id": "LY1FwYh6ap8c",
        "outputId": "5bf47d40-ed63-4756-e3c1-a767161079dc"
      },
      "execution_count": null,
      "outputs": [
        {
          "output_type": "stream",
          "name": "stderr",
          "text": [
            "/usr/local/lib/python3.8/dist-packages/seaborn/distributions.py:2619: FutureWarning: `distplot` is a deprecated function and will be removed in a future version. Please adapt your code to use either `displot` (a figure-level function with similar flexibility) or `kdeplot` (an axes-level function for kernel density plots).\n",
            "  warnings.warn(msg, FutureWarning)\n",
            "/usr/local/lib/python3.8/dist-packages/seaborn/distributions.py:2619: FutureWarning: `distplot` is a deprecated function and will be removed in a future version. Please adapt your code to use either `displot` (a figure-level function with similar flexibility) or `kdeplot` (an axes-level function for kernel density plots).\n",
            "  warnings.warn(msg, FutureWarning)\n"
          ]
        },
        {
          "output_type": "display_data",
          "data": {
            "text/plain": [
              "<Figure size 432x288 with 1 Axes>"
            ],
            "image/png": "[encoded data removed]"
          },
          "metadata": {
            "needs_background": "light"
          }
        }
      ]
    },
    {
      "cell_type": "code",
      "source": [
        "#teste de normalidade - casos\n",
        "s_casos,p_casos = kstest(casos, cdf='norm', args=(media1,desvio1), N=casos)\n",
        "s_casos,p_casos"
      ],
      "metadata": {
        "colab": {
          "base_uri": "https://localhost:8080/"
        },
        "id": "qOivWKTGbpq2",
        "outputId": "7478d5a8-3b5c-4c9b-d5d9-1a4cb8772027"
      },
      "execution_count": null,
      "outputs": [
        {
          "output_type": "execute_result",
          "data": {
            "text/plain": [
              "(0.3662708588318677, 8.809441653198044e-121)"
            ]
          },
          "metadata": {},
          "execution_count": 24
        }
      ]
    },
    {
      "cell_type": "code",
      "source": [
        "if p_casos < 0.05:\n",
        "  print('Rejeita H0')\n",
        "else:\n",
        "  print('Falha em Rejeitar H0')"
      ],
      "metadata": {
        "colab": {
          "base_uri": "https://localhost:8080/"
        },
        "id": "5waDvbfocPrM",
        "outputId": "84a115f5-27d5-4bf1-c5aa-8ea57ff84f56"
      },
      "execution_count": null,
      "outputs": [
        {
          "output_type": "stream",
          "name": "stdout",
          "text": [
            "Rejeita H0\n"
          ]
        }
      ]
    },
    {
      "cell_type": "code",
      "source": [
        "#teste de normalidade - mortes\n",
        "s_mortes,p_mortes = kstest(mortes, cdf='norm', args=(media2,desvio2), N=mortes)\n",
        "s_mortes,p_mortes"
      ],
      "metadata": {
        "colab": {
          "base_uri": "https://localhost:8080/"
        },
        "id": "uJE_lrVBdbc0",
        "outputId": "0f4a57fc-7832-428b-c485-067faefa06b5"
      },
      "execution_count": null,
      "outputs": [
        {
          "output_type": "execute_result",
          "data": {
            "text/plain": [
              "(0.381578047155113, 2.0021082832633396e-131)"
            ]
          },
          "metadata": {},
          "execution_count": 26
        }
      ]
    },
    {
      "cell_type": "code",
      "source": [
        "if p_mortes < 0.05:\n",
        "  print('Rejeita H0')\n",
        "else:\n",
        "  print('Falha em Rejeitar H0')"
      ],
      "metadata": {
        "colab": {
          "base_uri": "https://localhost:8080/"
        },
        "id": "CilTLkF2dwo2",
        "outputId": "9ab01da8-1163-4bed-cf5c-f7924df9ef68"
      },
      "execution_count": null,
      "outputs": [
        {
          "output_type": "stream",
          "name": "stdout",
          "text": [
            "Rejeita H0\n"
          ]
        }
      ]
    },
    {
      "cell_type": "markdown",
      "source": [
        "Teste não paramétrico de Ranksums para duas amostras"
      ],
      "metadata": {
        "id": "uscYWyhdfSAw"
      }
    },
    {
      "cell_type": "code",
      "source": [
        "s,p = ranksums(casos,mortes)\n",
        "s,p"
      ],
      "metadata": {
        "colab": {
          "base_uri": "https://localhost:8080/"
        },
        "id": "L9OBOCEAgDav",
        "outputId": "8e6cd5bf-404c-4701-a660-ec0dba87e314"
      },
      "execution_count": null,
      "outputs": [
        {
          "output_type": "execute_result",
          "data": {
            "text/plain": [
              "(9.678373691630355, 3.725955941665196e-22)"
            ]
          },
          "metadata": {},
          "execution_count": 29
        }
      ]
    },
    {
      "cell_type": "code",
      "source": [
        "if p < 0.05:\n",
        "  print('Rejeita H0')\n",
        "else:\n",
        "  print('Falha em rejeitar H0 (equivalentes) ')"
      ],
      "metadata": {
        "colab": {
          "base_uri": "https://localhost:8080/"
        },
        "id": "5AAZfz-6gMfy",
        "outputId": "e57a6d44-8c34-4b46-b391-c830a2480019"
      },
      "execution_count": null,
      "outputs": [
        {
          "output_type": "stream",
          "name": "stdout",
          "text": [
            "Rejeita H0\n"
          ]
        }
      ]
    }
  ]
}